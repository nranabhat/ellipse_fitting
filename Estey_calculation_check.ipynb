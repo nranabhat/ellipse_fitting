{
 "cells": [
  {
   "cell_type": "code",
   "execution_count": 29,
   "metadata": {},
   "outputs": [],
   "source": [
    "import math\n",
    "from math import cos, sin, acos\n",
    "import numpy as np\n",
    "import random as random\n",
    "from matplotlib import pyplot as plt"
   ]
  },
  {
   "cell_type": "markdown",
   "metadata": {},
   "source": [
    "First we create 100 {x,y} points using eqn 2.28"
   ]
  },
  {
   "cell_type": "code",
   "execution_count": 52,
   "metadata": {},
   "outputs": [
    {
     "data": {
      "image/png": "[encoded data removed]",
      "text/plain": [
       "<Figure size 432x288 with 1 Axes>"
      ]
     },
     "metadata": {
      "needs_background": "light"
     },
     "output_type": "display_data"
    }
   ],
   "source": [
    "# Creating (x,y) from Estey approach:\n",
    "    # x = c_x cos(phi_c + phi_d) + b_x\n",
    "    # y = c_y cos(phi_c - phi_d) + b_y\n",
    "    # Note: here Estey has c_x, c_y as Ax, Ay but I think this\n",
    "    # may be the same thing\n",
    "\n",
    "numPoints = 100\n",
    "X = np.empty(numPoints)\n",
    "Y = np.empty(numPoints)\n",
    "Phi_c = np.empty(numPoints)\n",
    "contrast = .65\n",
    "c_x = contrast\n",
    "c_y = contrast\n",
    "b_x = 1/2\n",
    "b_y = 1/2\n",
    "\n",
    "# ----- SETTING PHI_D ----- # \n",
    "# 0 < phi_d < pi/2 (gets full range of cos when phi_c = pi/2)\n",
    "phi_d = math.pi/1000\n",
    "# -----               ----- # \n",
    "\n",
    "for i in range(numPoints):\n",
    "    phi_c = random.uniform(0, 2*math.pi)\n",
    "    Phi_c[i] = phi_c\n",
    "    x_i = c_x * cos(phi_c + phi_d) + b_x\n",
    "    X[i] = x_i\n",
    "    y_i = c_y * cos(phi_c - phi_d) + b_y\n",
    "    Y[i] = y_i\n",
    "plt.scatter(X,Y)\n",
    "plt.show()"
   ]
  },
  {
   "cell_type": "markdown",
   "metadata": {},
   "source": [
    "Then get [a1, a2, ... ,a6] from eqn 2.31"
   ]
  },
  {
   "cell_type": "code",
   "execution_count": 53,
   "metadata": {},
   "outputs": [
    {
     "name": "stdout",
     "output_type": "stream",
     "text": [
      "[ 2.36686391e+00 -4.73363437e+00  2.36686391e+00 -4.67198671e-05\n",
      " -4.67198671e-05 -1.61179645e-05]\n"
     ]
    }
   ],
   "source": [
    "A = 1 / ((c_x)**2)\n",
    "B = -(2*cos(2*phi_d)) / (c_x*c_y)\n",
    "C = 1/(c_y)**2\n",
    "D = (2*b_y*cos(2*phi_d)/(c_x*c_y)) - (2*b_x)/(c_x)**2\n",
    "E = (2*b_x*cos(2*phi_d)/(c_x*c_y)) - (2*b_y)/(c_y)**2\n",
    "F = ((b_x)**2/((c_x)**2) + (b_y)**2/((c_y)**2) - \n",
    "(2*b_x*b_y*cos(2*phi_d))/(c_x*c_y) - \n",
    "4*(cos(phi_d))**2*(sin(phi_d))**2)\n",
    "\n",
    "coefficients = np.array([A,B,C,D,E,F])\n",
    "print(coefficients)\n"
   ]
  },
  {
   "cell_type": "markdown",
   "metadata": {},
   "source": [
    "##### plot resulting ellipse from the parameters calcualted and scatter plot of points"
   ]
  },
  {
   "cell_type": "code",
   "execution_count": 54,
   "metadata": {},
   "outputs": [
    {
     "data": {
      "image/png": "[encoded data removed]",
      "text/plain": [
       "<Figure size 432x288 with 1 Axes>"
      ]
     },
     "metadata": {
      "needs_background": "light"
     },
     "output_type": "display_data"
    }
   ],
   "source": [
    "plt.scatter(X,Y)\n",
    "\n",
    "x = np.linspace(-0.2, 1.1, 400)\n",
    "y = np.linspace(-0.2, 1.1, 400)\n",
    "x, y = np.meshgrid(x, y)\n",
    "assert B**2 - 4*A*C < 0\n",
    "plt.contour(x, y,(A*x**2 + B*x*y + C*y**2 + D*x + E*y + F), [0], colors='k')\n",
    "plt.show()"
   ]
  },
  {
   "cell_type": "markdown",
   "metadata": {},
   "source": [
    "# Verify eqn 2.31"
   ]
  },
  {
   "cell_type": "markdown",
   "metadata": {},
   "source": [
    "Now check that Ax^2 + Bxy + Cy^2 + Dx + Ey + F = 0 is satisfied for all 100 points. This will verify that eqn 2.31 gives the correct [ABCDEF] vector"
   ]
  },
  {
   "cell_type": "code",
   "execution_count": 55,
   "metadata": {},
   "outputs": [
    {
     "name": "stdout",
     "output_type": "stream",
     "text": [
      "-2.8049462167008266e-15\n",
      "average error value: -2.8049462167008265e-17\n"
     ]
    }
   ],
   "source": [
    "error_vec = np.empty(numPoints)\n",
    "for i in range(numPoints):\n",
    "    error = A*(X[i]**2) + B*X[i]*Y[i] + C*(Y[i]**2) + D*X[i] + E*Y[i] + F\n",
    "    error_vec[i] = error\n",
    "print(sum(error_vec))\n",
    "print('average error value: ' + str(sum(error_vec) / numPoints))"
   ]
  },
  {
   "cell_type": "markdown",
   "metadata": {},
   "source": [
    "Now check that the {x,y} used in eqn 2.31 may refer to the {x',y'} in eqn 2.30:"
   ]
  },
  {
   "cell_type": "code",
   "execution_count": 35,
   "metadata": {},
   "outputs": [
    {
     "name": "stdout",
     "output_type": "stream",
     "text": [
      "278.83851810442064\n",
      "average error value: 2.7883851810442066\n"
     ]
    }
   ],
   "source": [
    "# creating {x', y'}:\n",
    "X_prime = np.empty(numPoints)\n",
    "Y_prime = np.empty(numPoints)\n",
    "for i in range (numPoints):\n",
    "    x_prime = (X[i] - b_x) / c_x\n",
    "    y_prime = (Y[i] - b_y) / c_y\n",
    "    X_prime[i] = x_prime\n",
    "    Y_prime[i] = y_prime\n",
    "\n",
    "# finding error using {x', y'}\n",
    "error_vec_prime = np.empty(numPoints)\n",
    "for i in range(numPoints):\n",
    "    error_prime = A*(X_prime[i]**2) + B*X_prime[i]*Y_prime[i] + C*(Y_prime[i]**2) + D*X_prime[i] + E*Y_prime[i] + F\n",
    "    error_vec_prime[i] = error_prime\n",
    "print(sum(error_vec_prime))\n",
    "print('average error value: ' + str(sum(error_vec_prime) / numPoints))"
   ]
  },
  {
   "cell_type": "markdown",
   "metadata": {},
   "source": [
    "Error is large => {x,y} in eqn 2.31 does not reference {x', y'} in eqn 2.30"
   ]
  },
  {
   "cell_type": "markdown",
   "metadata": {},
   "source": [
    "Now use the second part of eqn 2.30 to express {x', y'} and check the error:"
   ]
  },
  {
   "cell_type": "code",
   "execution_count": 36,
   "metadata": {},
   "outputs": [
    {
     "name": "stdout",
     "output_type": "stream",
     "text": [
      "278.8385181044206\n",
      "average error value: 2.7883851810442057\n"
     ]
    }
   ],
   "source": [
    "# creating {x', y'}:\n",
    "X_prime = np.empty(numPoints)\n",
    "Y_prime = np.empty(numPoints)\n",
    "for i in range (numPoints):\n",
    "    x_prime = cos(Phi_c[i])*cos(phi_d) - sin(Phi_c[i])*sin(phi_d)\n",
    "    y_prime = cos(Phi_c[i])*cos(phi_d) + sin(Phi_c[i])*sin(phi_d)\n",
    "    X_prime[i] = x_prime\n",
    "    Y_prime[i] = y_prime\n",
    "\n",
    "# finding error using {x', y'}\n",
    "error_vec_prime = np.empty(numPoints)\n",
    "for i in range(numPoints):\n",
    "    error_prime = A*(X_prime[i]**2) + B*X_prime[i]*Y_prime[i] + C*(Y_prime[i]**2) + D*X_prime[i] + E*Y_prime[i] + F\n",
    "    error_vec_prime[i] = error_prime\n",
    "print(sum(error_vec_prime))\n",
    "print('average error value: ' + str(sum(error_vec_prime) / numPoints))"
   ]
  },
  {
   "cell_type": "markdown",
   "metadata": {},
   "source": [
    "Things I could be doing wrong:\n",
    "- assuming Ax = c_x, Ay = c_y (likely correct)\n",
    "- assuming c_x = c_y = contrast, b_x = b_y = 1/2 = offset (likely correct)\n",
    "- taking phi_c between [0,2pi]\n",
    "- letting phi_d = pi/8\n",
    "- ?"
   ]
  },
  {
   "cell_type": "markdown",
   "metadata": {},
   "source": [
    "# Verify eqn 2.30"
   ]
  },
  {
   "cell_type": "code",
   "execution_count": 37,
   "metadata": {},
   "outputs": [
    {
     "name": "stdout",
     "output_type": "stream",
     "text": [
      "0.0\n",
      "average error value: 0.0\n"
     ]
    }
   ],
   "source": [
    "# 2.30 is just a trig identity, but below it's verified numerically \n",
    "error_vec_2_3 = np.empty(numPoints)\n",
    "for i in range(numPoints):\n",
    "    error_eqn_2_3 = X_prime[i] - (cos(Phi_c[i])*cos(phi_d) - sin(Phi_c[i])*sin(phi_d))\n",
    "    error_vec_2_3[i] = error_eqn_2_3\n",
    "print(sum(error_vec_2_3))\n",
    "print('average error value: ' + str(sum(error_vec_2_3) / numPoints))"
   ]
  },
  {
   "cell_type": "markdown",
   "metadata": {},
   "source": [
    "Error is small! Eqn 2.30 is true and interpreted correctly (agrees w/ eqn 2.28). This also suggests Ax = c_x and Ay = c_y. (Note, eqn 2.30 is just a trig identity)"
   ]
  },
  {
   "cell_type": "markdown",
   "metadata": {},
   "source": [
    "Next step is to veriffy the step from 2.30.5 to 2.31. Moving to Mapel\n",
    "\n",
    "NOTICE: eqn 2.30 flips the +- that the trig identity from google gives. This doesn't help with the derivation though? bc 2.30.5 still holds.\n"
   ]
  }
 ],
 "metadata": {
  "kernelspec": {
   "display_name": "Python 3",
   "language": "python",
   "name": "python3"
  },
  "language_info": {
   "codemirror_mode": {
    "name": "ipython",
    "version": 3
   },
   "file_extension": ".py",
   "mimetype": "text/x-python",
   "name": "python",
   "nbconvert_exporter": "python",
   "pygments_lexer": "ipython3",
   "version": "3.10.2"
  }
 },
 "nbformat": 4,
 "nbformat_minor": 2
}
